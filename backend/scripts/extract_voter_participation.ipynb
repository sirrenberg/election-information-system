{
 "cells": [
  {
   "cell_type": "code",
   "execution_count": 37,
   "metadata": {},
   "outputs": [
    {
     "name": "stdout",
     "output_type": "stream",
     "text": [
      "   Schlüsselnummer       datum  Stimmberechtigte  Wähler\n",
      "0              101  2023-10-08             98320   67564\n",
      "1              102  2023-10-08             86064   60169\n",
      "2              103  2023-10-08            123365   87696\n",
      "3              104  2023-10-08            106590   71157\n",
      "4              105  2023-10-08             95838   63781\n",
      "   Schlüsselnummer       datum  Stimmberechtigte  Wähler\n",
      "0              101  2018-10-14            100904   72374\n",
      "1              102  2018-10-14             85705   62632\n",
      "2              103  2018-10-14            123505   91976\n",
      "3              104  2018-10-14            109111   77890\n",
      "4              105  2018-10-14             96621   67469\n",
      "   Schlüsselnummer       datum  Stimmberechtigte  Wähler\n",
      "0              101  2023-10-08             98320   67564\n",
      "1              102  2023-10-08             86064   60169\n",
      "2              103  2023-10-08            123365   87696\n",
      "3              104  2023-10-08            106590   71157\n",
      "4              105  2023-10-08             95838   63781\n",
      "5              106  2023-10-08            113745   80636\n",
      "6              107  2023-10-08            105532   69889\n",
      "7              108  2023-10-08             90960   63544\n",
      "8              109  2023-10-08             89670   64760\n",
      "9              110  2023-10-08             81837   58056\n"
     ]
    },
    {
     "name": "stderr",
     "output_type": "stream",
     "text": [
      "/tmp/ipykernel_12794/3686056273.py:21: FutureWarning: Series.__getitem__ treating keys as positions is deprecated. In a future version, integer keys will always be treated as labels (consistent with DataFrame behavior). To access a value by position, use `ser.iloc[pos]`\n",
      "  sql_query += ',\\n'.join(wahlbeteiligung.apply(lambda row: f\"\\t({row[0]}, '{row[1]}', {row[2]}, {row[3]})\", axis=1))\n"
     ]
    }
   ],
   "source": [
    "import pandas as pd\n",
    "\n",
    "# read data from https://www.landtagswahl2023.bayern.de/08_10_2023_Landtagswahl_2023_Stimmkreise_Bayern.csv\n",
    "df = pd.read_csv('08_10_2023_Landtagswahl_2023_Stimmkreise_Bayern.csv', sep=';', encoding='ISO-8859-1')\n",
    "df['datum'] = '2023-10-08'\n",
    "wahlbeteiligung_2023 = df[['Schlüsselnummer', 'datum', 'Stimmberechtigte', 'Wähler']]\n",
    "print(wahlbeteiligung_2023.head())\n",
    "\n",
    "# read data from https://www.landtagswahl2018.bayern.de/14_10_2018_Landtagswahl_2018_Stimmkreise_Bayern.csv\n",
    "df = pd.read_csv('14_10_2018_Landtagswahl_2018_Stimmkreise_Bayern.csv', sep=';', encoding='ISO-8859-1')\n",
    "df['datum'] = '2018-10-14'\n",
    "wahlbeteiligung_2018 = df[['Schlüsselnummer', 'datum', 'Stimmberechtigte', 'Wähler']]\n",
    "print(wahlbeteiligung_2018.head())\n",
    "\n",
    "# concat both dataframes\n",
    "wahlbeteiligung = pd.concat([wahlbeteiligung_2023, wahlbeteiligung_2018])\n",
    "print(wahlbeteiligung.head(10))\n",
    "\n",
    "# create sql query from dataframe\n",
    "sql_query = 'INSERT INTO anzahlStimmberechtigteUndWaeler VALUES\\n'\n",
    "sql_query += ',\\n'.join(wahlbeteiligung.apply(lambda row: f\"\\t({row[0]}, '{row[1]}', {row[2]}, {row[3]})\", axis=1))\n",
    "sql_query += ';'\n",
    "\n",
    "with open('../data/anzahlStimmberechtigteUndWaeler.sql', 'w') as f:\n",
    "    f.write(sql_query)"
   ]
  }
 ],
 "metadata": {
  "kernelspec": {
   "display_name": "Python 3",
   "language": "python",
   "name": "python3"
  },
  "language_info": {
   "codemirror_mode": {
    "name": "ipython",
    "version": 3
   },
   "file_extension": ".py",
   "mimetype": "text/x-python",
   "name": "python",
   "nbconvert_exporter": "python",
   "pygments_lexer": "ipython3",
   "version": "3.10.12"
  }
 },
 "nbformat": 4,
 "nbformat_minor": 2
}
